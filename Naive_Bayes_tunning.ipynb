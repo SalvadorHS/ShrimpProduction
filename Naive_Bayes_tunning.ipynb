{
 "cells": [
  {
   "cell_type": "markdown",
   "id": "74ea905a",
   "metadata": {},
   "source": [
    "# Naive Bayes\n",
    "## Hyper-parameter Tunning"
   ]
  },
  {
   "cell_type": "code",
   "execution_count": 1,
   "id": "6e3f47ce",
   "metadata": {},
   "outputs": [],
   "source": [
    "import warnings\n",
    "import pandas as pd\n",
    "import numpy as np\n",
    "from sklearn.naive_bayes import GaussianNB\n",
    "from sklearn.model_selection import train_test_split, GridSearchCV, RepeatedStratifiedKFold\n",
    "warnings.filterwarnings('ignore')\n",
    "\n",
    "df_train = pd.read_csv('Final_Train_dataset.csv')\n",
    "X_train  = df_train.iloc[:,:-1]\n",
    "y_train  = df_train.VirusDetected"
   ]
  },
  {
   "cell_type": "code",
   "execution_count": 2,
   "id": "c35dbcf8",
   "metadata": {},
   "outputs": [],
   "source": [
    "# Specify different values for the tunning process\n",
    "StratifiedKFold = RepeatedStratifiedKFold(n_splits     = 5, \n",
    "                                          n_repeats    = 3, \n",
    "                                          random_state = 42)\n",
    "\n",
    "var_smoothing   = [int(x) for x in np.logspace(0,-9, num=100)] \n",
    "                                          \n",
    "#Create parameter grid\n",
    "bayes_grid      = {'var_smoothing':var_smoothing} # Portion of the largest variance of all features that is added to variances for calculation stability\n",
    "\n",
    "#Create GaussianNB object\n",
    "bayes_model = GaussianNB()\n",
    "\n",
    "bayes_search    = GridSearchCV(estimator  = bayes_model,\n",
    "                               param_grid = bayes_grid,\n",
    "                               cv         = StratifiedKFold,\n",
    "                               verbose    = 1, \n",
    "                               scoring    = 'accuracy')\n"
   ]
  },
  {
   "cell_type": "code",
   "execution_count": 3,
   "id": "9b262f9f",
   "metadata": {},
   "outputs": [
    {
     "name": "stdout",
     "output_type": "stream",
     "text": [
      "Fitting 15 folds for each of 100 candidates, totalling 1500 fits\n",
      "\n",
      " Time taken: 0 hours 0 minutes and 3.75 seconds.\n"
     ]
    }
   ],
   "source": [
    "from datetime import datetime\n",
    "\n",
    "# This function returns the time \n",
    "def timer(start_time=None):\n",
    "    if not start_time:\n",
    "        start_time = datetime.now()\n",
    "        return start_time\n",
    "    elif start_time:\n",
    "        thour, temp_sec = divmod((datetime.now() - start_time).total_seconds(), 3600)\n",
    "        tmin, tsec = divmod(temp_sec, 60)\n",
    "        print('\\n Time taken: %i hours %i minutes and %s seconds.' % (thour, tmin, round(tsec, 2)))\n",
    "        \n",
    "start_time = timer(None) # timing starts from this point for \"start_time\" variable\n",
    "bayes_search.fit(X_train,y_train)\n",
    "timer(start_time) # timing ends here for \"start_time\" variable"
   ]
  },
  {
   "cell_type": "code",
   "execution_count": 4,
   "id": "8df29368",
   "metadata": {},
   "outputs": [
    {
     "data": {
      "text/plain": [
       "{'var_smoothing': 0}"
      ]
     },
     "execution_count": 4,
     "metadata": {},
     "output_type": "execute_result"
    }
   ],
   "source": [
    "bayes_search.best_params_"
   ]
  },
  {
   "cell_type": "markdown",
   "id": "7e18c42e",
   "metadata": {},
   "source": [
    "* Specify optimal model "
   ]
  },
  {
   "cell_type": "code",
   "execution_count": 5,
   "id": "9cd6d4f5",
   "metadata": {},
   "outputs": [],
   "source": [
    "optimal_model = GaussianNB().fit(X_train, y_train)"
   ]
  }
 ],
 "metadata": {
  "kernelspec": {
   "display_name": "Python 3.10.4 ('Heroku')",
   "language": "python",
   "name": "python3"
  },
  "language_info": {
   "codemirror_mode": {
    "name": "ipython",
    "version": 3
   },
   "file_extension": ".py",
   "mimetype": "text/x-python",
   "name": "python",
   "nbconvert_exporter": "python",
   "pygments_lexer": "ipython3",
   "version": "3.10.4"
  },
  "vscode": {
   "interpreter": {
    "hash": "c5931ca596318b2946a8e455fceda41c87f148b66561717c7be6f15659c9654d"
   }
  }
 },
 "nbformat": 4,
 "nbformat_minor": 5
}
