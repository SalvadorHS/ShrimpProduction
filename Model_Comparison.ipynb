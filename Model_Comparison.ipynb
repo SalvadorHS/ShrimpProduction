{
 "cells": [
  {
   "cell_type": "markdown",
   "id": "f1a43d50",
   "metadata": {},
   "source": [
    "# 4. MODEL COMPARISON\n",
    "    - Logistic Regression\n",
    "    - Naive Bayes\n",
    "    - Support Vector Classifier\n",
    "    - Random Forest\n",
    "    - XGBoost Classifier"
   ]
  },
  {
   "cell_type": "code",
   "execution_count": 5,
   "id": "f38a8b83",
   "metadata": {},
   "outputs": [],
   "source": [
    "import warnings\n",
    "import pandas as pd\n",
    "from sklearn.metrics import f1_score, recall_score, precision_score, accuracy_score\n",
    "from sklearn.model_selection import train_test_split\n",
    "from sklearn.linear_model import LogisticRegression\n",
    "from sklearn.naive_bayes import GaussianNB\n",
    "from sklearn.svm import SVC\n",
    "from sklearn.ensemble import RandomForestClassifier\n",
    "from xgboost import XGBClassifier\n",
    "warnings.filterwarnings('ignore')\n",
    "\n",
    "df_train = pd.read_csv('Final_Train_dataset.csv')\n",
    "X_train  = df_train.iloc[:,:-1]\n",
    "y_train  = df_train.VirusDetected\n",
    "\n",
    "df_test = pd.read_csv('Final_Test_dataset.csv')\n",
    "X_test  = df_test.iloc[:,:-1]\n",
    "y_test  = df_test.VirusDetected"
   ]
  },
  {
   "cell_type": "code",
   "execution_count": 6,
   "id": "9c77bcd2",
   "metadata": {},
   "outputs": [
    {
     "name": "stdout",
     "output_type": "stream",
     "text": [
      "Accuracy:  0.95745 Naive Bayes --- 0.0060002803802490234 seconds ---\n",
      "Accuracy:  0.91489 Logistic Regression --- 0.013002634048461914 seconds ---\n",
      "Accuracy:  0.95745 SVC --- 0.016001224517822266 seconds ---\n",
      "Accuracy:  0.95745 Random Forest --- 0.06599950790405273 seconds ---\n",
      "Accuracy:  0.95745 XGBoost --- 0.1120002269744873 seconds ---\n",
      "Precision:  1.0 Naive Bayes --- 0.11600184440612793 seconds ---\n",
      "Precision:  0.93333 Logistic Regression --- 0.12299919128417969 seconds ---\n",
      "Precision:  1.0 SVC --- 0.12599849700927734 seconds ---\n",
      "Precision:  1.0 Random Forest --- 0.17699885368347168 seconds ---\n",
      "Precision:  1.0 XGBoost --- 0.2239975929260254 seconds ---\n",
      "Sensitivity:  0.93333 Naive Bayes --- 0.2279980182647705 seconds ---\n",
      "Sensitivity:  0.93333 Logistic Regression --- 0.2350177764892578 seconds ---\n",
      "Sensitivity:  0.93333 SVC --- 0.23801469802856445 seconds ---\n",
      "Sensitivity:  0.93333 Random Forest --- 0.2900979518890381 seconds ---\n",
      "Sensitivity:  0.93333 XGBoost --- 0.3379976749420166 seconds ---\n",
      "F1-Score:  0.96552 Naive Bayes --- 0.34099793434143066 seconds ---\n",
      "F1-Score:  0.93333 Logistic Regression --- 0.3476424217224121 seconds ---\n",
      "F1-Score:  0.96552 SVC --- 0.3510160446166992 seconds ---\n",
      "F1-Score:  0.96552 Random Forest --- 0.40199851989746094 seconds ---\n",
      "F1-Score:  0.96552 XGBoost --- 0.44899964332580566 seconds ---\n"
     ]
    }
   ],
   "source": [
    "models = []\n",
    "models.append(('Naive Bayes', GaussianNB()))\n",
    "models.append(('Logistic Regression', LogisticRegression(C        = 78.47,\n",
    "                                                         max_iter = 100,\n",
    "                                                         solver   = 'lbfgs')))\n",
    "models.append(('SVC', SVC(C      = 5,\n",
    "                          degree = 100,\n",
    "                          gamma  = 'scale',\n",
    "                          kernel = 'linear')))\n",
    "\n",
    "models.append(('Random Forest', RandomForestClassifier(n_estimators      = 50,\n",
    "                                                       min_samples_split = 2,\n",
    "                                                       min_samples_leaf  = 1,\n",
    "                                                       max_features      = 'auto',\n",
    "                                                       max_depth         = 5,\n",
    "                                                       criterion         = 'gini')))\n",
    "models.append(('XGBoost',XGBClassifier(colsample_bytree = 0.3,\n",
    "                                       learning_rate    = 0.05,\n",
    "                                       max_depth        = 1, \n",
    "                                       min_child_weight = 1)))\n",
    "\n",
    "import time\n",
    "start_time = time.time()\n",
    "\n",
    "for name, model in models:\n",
    "    fitting  = model.fit(X_train, y_train)\n",
    "    y_pred   = fitting.predict(X_test)\n",
    "    accuracy = accuracy_score(y_test, y_pred)  \n",
    "    print('Accuracy: ',round(accuracy, 5), name,\"--- %s seconds ---\" % (time.time() - start_time) )\n",
    "    \n",
    "for name, model in models:\n",
    "    fitting   = model.fit(X_train, y_train)\n",
    "    y_pred    = fitting.predict(X_test)\n",
    "    precision = precision_score(y_test, y_pred)   \n",
    "    print('Precision: ',round(precision, 5), name,\"--- %s seconds ---\" % (time.time() - start_time) )\n",
    "    \n",
    "for name, model in models:\n",
    "    fitting   = model.fit(X_train, y_train)\n",
    "    y_pred    = fitting.predict(X_test)\n",
    "    recall    = recall_score(y_test, y_pred)   \n",
    "    print('Sensitivity: ',round(recall, 5), name,\"--- %s seconds ---\" % (time.time() - start_time) )\n",
    "    \n",
    "for name, model in models:\n",
    "    fitting    = model.fit(X_train, y_train)\n",
    "    y_pred     = fitting.predict(X_test)\n",
    "    pre_recall = f1_score(y_test, y_pred)   \n",
    "    print('F1-Score: ',round(pre_recall, 5), name,\"--- %s seconds ---\" % (time.time() - start_time) )"
   ]
  },
  {
   "cell_type": "markdown",
   "id": "edebc89c",
   "metadata": {},
   "source": [
    "- Naive Bayes Technique outperforms all algorithms in terms of execution time with a better or at least equal classification performance "
   ]
  },
  {
   "cell_type": "markdown",
   "id": "3a41fdf2",
   "metadata": {},
   "source": [
    "## Deployment"
   ]
  },
  {
   "cell_type": "code",
   "execution_count": 7,
   "id": "c117080f",
   "metadata": {},
   "outputs": [],
   "source": [
    "optimal_model = GaussianNB().fit(X_train, y_train)"
   ]
  },
  {
   "cell_type": "code",
   "execution_count": 8,
   "id": "233f6eb9",
   "metadata": {},
   "outputs": [],
   "source": [
    "import pickle\n",
    "file = open(\"naive_bayes.pkl\", 'wb')\n",
    "pickle.dump(optimal_model, file)"
   ]
  },
  {
   "cell_type": "code",
   "execution_count": null,
   "id": "c3f9f8ae",
   "metadata": {},
   "outputs": [],
   "source": []
  }
 ],
 "metadata": {
  "kernelspec": {
   "display_name": "Python 3.10.4 ('Heroku')",
   "language": "python",
   "name": "python3"
  },
  "language_info": {
   "codemirror_mode": {
    "name": "ipython",
    "version": 3
   },
   "file_extension": ".py",
   "mimetype": "text/x-python",
   "name": "python",
   "nbconvert_exporter": "python",
   "pygments_lexer": "ipython3",
   "version": "3.10.4"
  },
  "vscode": {
   "interpreter": {
    "hash": "c5931ca596318b2946a8e455fceda41c87f148b66561717c7be6f15659c9654d"
   }
  }
 },
 "nbformat": 4,
 "nbformat_minor": 5
}
