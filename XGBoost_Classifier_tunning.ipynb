{
 "cells": [
  {
   "cell_type": "markdown",
   "id": "6a33c943",
   "metadata": {},
   "source": [
    "# XGBoost Classifier\n",
    "## Hyper-parameter Tunning"
   ]
  },
  {
   "cell_type": "code",
   "execution_count": 1,
   "id": "d50fa929",
   "metadata": {},
   "outputs": [],
   "source": [
    "import warnings\n",
    "import pandas as pd\n",
    "import numpy as np\n",
    "from xgboost import XGBClassifier\n",
    "from sklearn.model_selection import train_test_split, GridSearchCV, RepeatedStratifiedKFold\n",
    "warnings.filterwarnings('ignore')\n",
    "\n",
    "df_train = pd.read_csv('Final_Train_dataset.csv')\n",
    "X_train  = df_train.iloc[:,:-1]\n",
    "y_train  = df_train.VirusDetected"
   ]
  },
  {
   "cell_type": "code",
   "execution_count": 2,
   "id": "bff0cf47",
   "metadata": {},
   "outputs": [],
   "source": [
    "# Specify different values for the tunning process\n",
    "StratifiedKFold = RepeatedStratifiedKFold(n_splits     = 3, \n",
    "                                          n_repeats    = 2, \n",
    "                                          random_state = 0)\n",
    "\n",
    "#n_estimators     = [int(x) for x in np.linspace(start = 50, stop = 250, num = 50)]\n",
    "learning_rate    = [0.05, 0.2 , 0.25, 0.3 , 0.45, 0.5]\n",
    "max_depth        = [int(x) for x in np.linspace(1, 10, num = 5)]\n",
    "min_child_weight = [1, 3, 5]\n",
    "gamma            = [0.0, 0.1, 0.3]\n",
    "reg_lambda       = [0, 1, 5 ]\n",
    "colsample_bytree = [0.3, 0.5 , 0.7 ]\n",
    "\n",
    "#Create parameter grid\n",
    "XGB_params={\n",
    "    #\"n_estimators\"     : n_estimators,  \n",
    "    \"learning_rate\"    : learning_rate ,\n",
    "    \"max_depth\"        : max_depth,\n",
    "    \"min_child_weight\" : min_child_weight,\n",
    "    \"gamma\"            : gamma,\n",
    "    \"reg_lambda\"       : reg_lambda,\n",
    "    \"colsample_bytree\" : colsample_bytree}\n",
    "\n",
    "#Create XGBoost object\n",
    "XGB_model = XGBClassifier()\n",
    "\n",
    "#Grid Search CV\n",
    "XGB_search = GridSearchCV(XGB_model, \n",
    "                      XGB_params, \n",
    "                      scoring = 'accuracy', \n",
    "                      cv = StratifiedKFold, \n",
    "                      n_jobs = -1, \n",
    "                      verbose = True)"
   ]
  },
  {
   "cell_type": "code",
   "execution_count": 3,
   "id": "1c6165a1",
   "metadata": {},
   "outputs": [
    {
     "name": "stdout",
     "output_type": "stream",
     "text": [
      "Fitting 6 folds for each of 2430 candidates, totalling 14580 fits\n",
      "\n",
      " Time taken: 0 hours 2 minutes and 32.71 seconds.\n"
     ]
    }
   ],
   "source": [
    "from datetime import datetime\n",
    "\n",
    "def timer(start_time=None):\n",
    "    if not start_time:\n",
    "        start_time = datetime.now()\n",
    "        return start_time\n",
    "    elif start_time:\n",
    "        thour, temp_sec = divmod((datetime.now() - start_time).total_seconds(), 3600)\n",
    "        tmin, tsec = divmod(temp_sec, 60)\n",
    "        print('\\n Time taken: %i hours %i minutes and %s seconds.' % (thour, tmin, round(tsec, 2)))\n",
    "        \n",
    "start_time = timer(None) # timing starts from this point for \"start_time\" variable\n",
    "XGB_search.fit(X_train,y_train)\n",
    "timer(start_time) # timing ends here for \"start_time\" variable"
   ]
  },
  {
   "cell_type": "code",
   "execution_count": 4,
   "id": "5553cd71",
   "metadata": {},
   "outputs": [
    {
     "data": {
      "text/plain": [
       "{'colsample_bytree': 0.3,\n",
       " 'gamma': 0.0,\n",
       " 'learning_rate': 0.05,\n",
       " 'max_depth': 1,\n",
       " 'min_child_weight': 1,\n",
       " 'reg_lambda': 0}"
      ]
     },
     "execution_count": 4,
     "metadata": {},
     "output_type": "execute_result"
    }
   ],
   "source": [
    "XGB_search.best_params_"
   ]
  },
  {
   "cell_type": "markdown",
   "id": "2bf4bd97",
   "metadata": {},
   "source": [
    "- Specify the optimal model "
   ]
  },
  {
   "cell_type": "code",
   "execution_count": 5,
   "id": "5dbfc14e",
   "metadata": {},
   "outputs": [],
   "source": [
    "optimal_model = XGBClassifier(colsample_bytree = 0.3,\n",
    "                            learning_rate     = 0.05,\n",
    "                            max_depth         = 1, \n",
    "                            min_child_weight  = 1).fit(X_train, y_train)"
   ]
  },
  {
   "cell_type": "code",
   "execution_count": null,
   "id": "dbcb9a3a",
   "metadata": {},
   "outputs": [],
   "source": []
  }
 ],
 "metadata": {
  "kernelspec": {
   "display_name": "Python 3 (ipykernel)",
   "language": "python",
   "name": "python3"
  },
  "language_info": {
   "codemirror_mode": {
    "name": "ipython",
    "version": 3
   },
   "file_extension": ".py",
   "mimetype": "text/x-python",
   "name": "python",
   "nbconvert_exporter": "python",
   "pygments_lexer": "ipython3",
   "version": "3.10.4"
  }
 },
 "nbformat": 4,
 "nbformat_minor": 5
}
