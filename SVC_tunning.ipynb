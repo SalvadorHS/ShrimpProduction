{
 "cells": [
  {
   "cell_type": "markdown",
   "id": "57144433",
   "metadata": {},
   "source": [
    "# Support Vector Classifier\n",
    "## Hyper-parameter Tunning"
   ]
  },
  {
   "cell_type": "code",
   "execution_count": 1,
   "id": "4a08473d",
   "metadata": {},
   "outputs": [],
   "source": [
    "import warnings\n",
    "import pandas as pd\n",
    "import numpy as np\n",
    "from sklearn.svm import SVC\n",
    "from sklearn.model_selection import train_test_split, GridSearchCV, RepeatedStratifiedKFold\n",
    "warnings.filterwarnings('ignore')\n",
    "\n",
    "df_train = pd.read_csv('Final_Train_dataset.csv')\n",
    "X_train  = df_train.iloc[:,:-1]\n",
    "y_train  = df_train.VirusDetected"
   ]
  },
  {
   "cell_type": "code",
   "execution_count": 8,
   "id": "d955208a",
   "metadata": {},
   "outputs": [],
   "source": [
    "# Specify different values for the tunning process\n",
    "StratifiedKFold = RepeatedStratifiedKFold(n_splits     = 5, \n",
    "                                          n_repeats    = 3, \n",
    "                                          random_state = 99)\n",
    "\n",
    "kernel  = ['rbf', 'poly', 'sigmoid','linear']\n",
    "degree  = [1, 2, 3, 4]\n",
    "gamma   = ['scale', 'auto']\n",
    "C       = [0.01, 0.1, 1, 5]\n",
    "\n",
    "#Create parameter grid\n",
    "svc_grid = [{'kernel' : kernel,\n",
    "             'degree' : degree, \n",
    "             'gamma'  : gamma,\n",
    "             'C'      : C}]\n",
    "\n",
    "#Create SVR object\n",
    "svc_model  = SVC()\n",
    "\n",
    "#Grid Search CV\n",
    "svc_search   = GridSearchCV(svc_model, \n",
    "                           svc_grid, \n",
    "                           scoring= 'accuracy', \n",
    "                           cv = StratifiedKFold, \n",
    "                           verbose= True)"
   ]
  },
  {
   "cell_type": "code",
   "execution_count": 3,
   "id": "41769768",
   "metadata": {},
   "outputs": [
    {
     "name": "stdout",
     "output_type": "stream",
     "text": [
      "Fitting 15 folds for each of 128 candidates, totalling 1920 fits\n",
      "\n",
      " Time taken: 0 hours 0 minutes and 5.49 seconds.\n"
     ]
    }
   ],
   "source": [
    "from datetime import datetime\n",
    "\n",
    "def timer(start_time=None):\n",
    "    if not start_time:\n",
    "        start_time = datetime.now()\n",
    "        return start_time\n",
    "    elif start_time:\n",
    "        thour, temp_sec = divmod((datetime.now() - start_time).total_seconds(), 3600)\n",
    "        tmin, tsec = divmod(temp_sec, 60)\n",
    "        print('\\n Time taken: %i hours %i minutes and %s seconds.' % (thour, tmin, round(tsec, 2)))\n",
    "        \n",
    "start_time = timer(None) # timing starts from this point for \"start_time\" variable\n",
    "svc_search.fit(X_train,y_train)\n",
    "timer(start_time) # timing ends here for \"start_time\" variable"
   ]
  },
  {
   "cell_type": "code",
   "execution_count": 4,
   "id": "fd5732cb",
   "metadata": {},
   "outputs": [
    {
     "data": {
      "text/plain": [
       "{'C': 5, 'degree': 1, 'gamma': 'scale', 'kernel': 'linear'}"
      ]
     },
     "execution_count": 4,
     "metadata": {},
     "output_type": "execute_result"
    }
   ],
   "source": [
    "svc_search.best_params_"
   ]
  },
  {
   "cell_type": "markdown",
   "id": "204b7919",
   "metadata": {},
   "source": [
    "- Specify the optimal model"
   ]
  },
  {
   "cell_type": "code",
   "execution_count": 7,
   "id": "2b21e6ad",
   "metadata": {},
   "outputs": [],
   "source": [
    "optimal_model = SVC(C      = 5,\n",
    "                    degree = 100,\n",
    "                    gamma  = 'scale',\n",
    "                    kernel = 'linear').fit(X_train, y_train)"
   ]
  },
  {
   "cell_type": "code",
   "execution_count": null,
   "id": "7f37e71f",
   "metadata": {},
   "outputs": [],
   "source": []
  }
 ],
 "metadata": {
  "kernelspec": {
   "display_name": "Python 3 (ipykernel)",
   "language": "python",
   "name": "python3"
  },
  "language_info": {
   "codemirror_mode": {
    "name": "ipython",
    "version": 3
   },
   "file_extension": ".py",
   "mimetype": "text/x-python",
   "name": "python",
   "nbconvert_exporter": "python",
   "pygments_lexer": "ipython3",
   "version": "3.10.4"
  }
 },
 "nbformat": 4,
 "nbformat_minor": 5
}
