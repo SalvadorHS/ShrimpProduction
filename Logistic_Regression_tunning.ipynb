{
 "cells": [
  {
   "cell_type": "markdown",
   "id": "10d393a0",
   "metadata": {},
   "source": [
    "# Logistic Regression\n",
    "## Hyper-parameter Tunning"
   ]
  },
  {
   "cell_type": "code",
   "execution_count": 1,
   "id": "629b4d48",
   "metadata": {},
   "outputs": [],
   "source": [
    "import warnings\n",
    "import pandas as pd\n",
    "import numpy as np\n",
    "from sklearn.linear_model import LogisticRegression\n",
    "from sklearn.model_selection import train_test_split, GridSearchCV, RepeatedStratifiedKFold\n",
    "warnings.filterwarnings('ignore')\n",
    "\n",
    "df_train = pd.read_csv('Final_Train_dataset.csv')\n",
    "X_train  = df_train.iloc[:,:-1]\n",
    "y_train  = df_train.VirusDetected"
   ]
  },
  {
   "cell_type": "code",
   "execution_count": 2,
   "id": "da8ae8a5",
   "metadata": {},
   "outputs": [],
   "source": [
    "# Specify different values for the tunning process\n",
    "StratifiedKFold = RepeatedStratifiedKFold(n_splits     = 5, \n",
    "                                          n_repeats    = 3, \n",
    "                                          random_state = 99)\n",
    "\n",
    "#Create parameter grid\n",
    "log_grid = [    \n",
    "    {'C'       : np.logspace(-4, 4, 20),\n",
    "    'solver'   : ['lbfgs','newton-cg','liblinear','sag','saga'],\n",
    "    'max_iter' : [100, 1000, 2500, 5000]\n",
    "    }\n",
    "]\n",
    "                                          \n",
    "\n",
    "#Create LogisticRegression object\n",
    "log_model  = LogisticRegression()\n",
    "\n",
    "log_search = GridSearchCV(estimator    = log_model,\n",
    "                               param_grid = log_grid,\n",
    "                               cv         = StratifiedKFold,\n",
    "                               verbose    = True, \n",
    "                               scoring    = 'accuracy')\n"
   ]
  },
  {
   "cell_type": "code",
   "execution_count": 3,
   "id": "aa234b24",
   "metadata": {},
   "outputs": [
    {
     "name": "stdout",
     "output_type": "stream",
     "text": [
      "Fitting 15 folds for each of 400 candidates, totalling 6000 fits\n",
      "\n",
      " Time taken: 0 hours 0 minutes and 59.57 seconds.\n"
     ]
    }
   ],
   "source": [
    "from datetime import datetime\n",
    "\n",
    "# This function returns the time \n",
    "def timer(start_time=None):\n",
    "    if not start_time:\n",
    "        start_time = datetime.now()\n",
    "        return start_time\n",
    "    elif start_time:\n",
    "        thour, temp_sec = divmod((datetime.now() - start_time).total_seconds(), 3600)\n",
    "        tmin, tsec = divmod(temp_sec, 60)\n",
    "        print('\\n Time taken: %i hours %i minutes and %s seconds.' % (thour, tmin, round(tsec, 2)))\n",
    "        \n",
    "start_time = timer(None) # timing starts from this point for \"start_time\" variable\n",
    "log_search.fit(X_train,y_train)\n",
    "timer(start_time) # timing ends here for \"start_time\" variable\n"
   ]
  },
  {
   "cell_type": "code",
   "execution_count": 5,
   "id": "cf37d53e",
   "metadata": {},
   "outputs": [
    {
     "data": {
      "text/plain": [
       "{'C': 78.47599703514607, 'max_iter': 100, 'solver': 'lbfgs'}"
      ]
     },
     "execution_count": 5,
     "metadata": {},
     "output_type": "execute_result"
    }
   ],
   "source": [
    "log_search.best_params_"
   ]
  },
  {
   "cell_type": "markdown",
   "id": "b3191481",
   "metadata": {},
   "source": [
    "Specify the optimal model "
   ]
  },
  {
   "cell_type": "code",
   "execution_count": 6,
   "id": "95dab72f",
   "metadata": {},
   "outputs": [],
   "source": [
    "optimal_model = LogisticRegression(C       = 78.47,\n",
    "                                  max_iter = 100,\n",
    "                                  solver   = 'lbfgs').fit(X_train, y_train)"
   ]
  },
  {
   "cell_type": "code",
   "execution_count": null,
   "id": "3c5ca018",
   "metadata": {},
   "outputs": [],
   "source": []
  }
 ],
 "metadata": {
  "kernelspec": {
   "display_name": "Python 3 (ipykernel)",
   "language": "python",
   "name": "python3"
  },
  "language_info": {
   "codemirror_mode": {
    "name": "ipython",
    "version": 3
   },
   "file_extension": ".py",
   "mimetype": "text/x-python",
   "name": "python",
   "nbconvert_exporter": "python",
   "pygments_lexer": "ipython3",
   "version": "3.10.4"
  }
 },
 "nbformat": 4,
 "nbformat_minor": 5
}
