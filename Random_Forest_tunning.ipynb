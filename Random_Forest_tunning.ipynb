{
 "cells": [
  {
   "cell_type": "markdown",
   "id": "7b93d8a0",
   "metadata": {},
   "source": [
    "# Random Forest\n",
    "## Hyper-parameter Tunning"
   ]
  },
  {
   "cell_type": "code",
   "execution_count": 7,
   "id": "853c6696",
   "metadata": {},
   "outputs": [],
   "source": [
    "import warnings\n",
    "import pandas as pd\n",
    "import numpy as np\n",
    "from sklearn.ensemble import RandomForestClassifier\n",
    "from sklearn.model_selection import train_test_split, GridSearchCV, KFold\n",
    "warnings.filterwarnings('ignore')\n",
    "\n",
    "df_train = pd.read_csv('Final_Train_dataset.csv')\n",
    "X_train  = df_train.iloc[:,:-1]\n",
    "y_train  = df_train.VirusDetected"
   ]
  },
  {
   "cell_type": "code",
   "execution_count": 2,
   "id": "6a48ff4b",
   "metadata": {},
   "outputs": [],
   "source": [
    "# Specify different values for the tunning process\n",
    "kfold             = KFold(n_splits = 5, random_state = None, shuffle = False)\n",
    "\n",
    "n_estimators      = [int(x) for x in np.linspace(start = 50, stop = 150, num = 5)] \n",
    "max_features      = ['auto', 'sqrt'] \n",
    "criterion         = ['gini','entropy']\n",
    "max_depth         = [int(x) for x in np.linspace(5, 30, 6)] \n",
    "min_samples_split = [int(x) for x in np.linspace(2, 20, 6)] \n",
    "min_samples_leaf  = [int(x) for x in np.linspace(1, 20, 6)] \n",
    "\n",
    "#Create parameter grid\n",
    "random_grid ={'n_estimators'     :n_estimators,\n",
    "              'max_features'     :max_features,\n",
    "              'criterion'        :criterion,\n",
    "              'max_depth'        :max_depth,\n",
    "              'min_samples_split':min_samples_split,\n",
    "              'min_samples_leaf' :min_samples_leaf}\n",
    "\n",
    "#Create Random Forest object\n",
    "rf = RandomForestClassifier()\n",
    "\n",
    "#Grid Search CV\n",
    "rf_search = GridSearchCV(rf,\n",
    "                         random_grid, \n",
    "                         scoring    = 'neg_mean_squared_error', \n",
    "                         cv         = kfold, \n",
    "                         n_jobs     = -1)"
   ]
  },
  {
   "cell_type": "code",
   "execution_count": 3,
   "id": "4f438560",
   "metadata": {},
   "outputs": [
    {
     "name": "stdout",
     "output_type": "stream",
     "text": [
      "\n",
      " Time taken: 0 hours 13 minutes and 7.81 seconds.\n"
     ]
    }
   ],
   "source": [
    "from datetime import datetime\n",
    "\n",
    "# This function returns the time \n",
    "def timer(start_time=None):\n",
    "    if not start_time:\n",
    "        start_time = datetime.now()\n",
    "        return start_time\n",
    "    elif start_time:\n",
    "        thour, temp_sec = divmod((datetime.now() - start_time).total_seconds(), 3600)\n",
    "        tmin, tsec = divmod(temp_sec, 60)\n",
    "        print('\\n Time taken: %i hours %i minutes and %s seconds.' % (thour, tmin, round(tsec, 2)))\n",
    "        \n",
    "start_time = timer(None) # timing starts from this point for \"start_time\" variable\n",
    "rf_search.fit(X_train,y_train)\n",
    "timer(start_time) # timing ends here for \"start_time\" variable"
   ]
  },
  {
   "cell_type": "code",
   "execution_count": 4,
   "id": "e05c289d",
   "metadata": {},
   "outputs": [
    {
     "data": {
      "text/plain": [
       "{'criterion': 'gini',\n",
       " 'max_depth': 5,\n",
       " 'max_features': 'auto',\n",
       " 'min_samples_leaf': 1,\n",
       " 'min_samples_split': 2,\n",
       " 'n_estimators': 50}"
      ]
     },
     "execution_count": 4,
     "metadata": {},
     "output_type": "execute_result"
    }
   ],
   "source": [
    "rf_search.best_params_"
   ]
  },
  {
   "cell_type": "markdown",
   "id": "2a398358",
   "metadata": {},
   "source": [
    "* Specify optimal model "
   ]
  },
  {
   "cell_type": "code",
   "execution_count": 5,
   "id": "9b62bc30",
   "metadata": {},
   "outputs": [],
   "source": [
    "optimal_model = RandomForestClassifier(n_estimators     = 50,\n",
    "                                      min_samples_split = 2,\n",
    "                                      min_samples_leaf  = 1,\n",
    "                                      max_features      = 'auto',\n",
    "                                      max_depth         = 5,\n",
    "                                      criterion         = 'gini').fit(X_train, y_train)"
   ]
  },
  {
   "cell_type": "code",
   "execution_count": null,
   "id": "94a8b0f7",
   "metadata": {},
   "outputs": [],
   "source": []
  }
 ],
 "metadata": {
  "kernelspec": {
   "display_name": "Python 3 (ipykernel)",
   "language": "python",
   "name": "python3"
  },
  "language_info": {
   "codemirror_mode": {
    "name": "ipython",
    "version": 3
   },
   "file_extension": ".py",
   "mimetype": "text/x-python",
   "name": "python",
   "nbconvert_exporter": "python",
   "pygments_lexer": "ipython3",
   "version": "3.10.4"
  }
 },
 "nbformat": 4,
 "nbformat_minor": 5
}
